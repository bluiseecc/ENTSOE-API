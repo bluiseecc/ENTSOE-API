{
 "cells": [
  {
   "cell_type": "code",
   "execution_count": 2,
   "metadata": {},
   "outputs": [],
   "source": [
    "import pygsheets\n",
    "import pandas as pd\n",
    "from entsoe import EntsoePandasClient\n",
    "import seaborn as sns\n",
    "import numpy as np\n",
    "from datetime import datetime, date, timedelta"
   ]
  },
  {
   "cell_type": "code",
   "execution_count": 3,
   "metadata": {},
   "outputs": [],
   "source": [
    "# Connecting to ENTSO-E API \n",
    "\n",
    "client = EntsoePandasClient(api_key='4b1229d3-1c2c-4fbb-9e43-4d1692208b57')"
   ]
  },
  {
   "cell_type": "code",
   "execution_count": 33,
   "metadata": {},
   "outputs": [],
   "source": [
    "# timestamps\n",
    "today = datetime.today()\n",
    "today_previoushour = today.replace(hour = today.hour -1  ,minute=59,second = 59, microsecond=00)\n",
    "PreviousDay = today_previoushour.replace(day = today.day -1)\n",
    "start = pd.Timestamp(PreviousDay, tz='Europe/Brussels')\n",
    "end = pd.Timestamp(today_previoushour, tz='Europe/Brussels')"
   ]
  },
  {
   "cell_type": "code",
   "execution_count": null,
   "metadata": {},
   "outputs": [],
   "source": [
    "# QUERY 1: Actual Generation\n",
    "\n",
    "# Queries of each country\n",
    "\n",
    "Countries = ['PT','ES', 'FR','DE','BE','CZ','IT','AT', 'NL']\n",
    "Generation = []\n",
    "\n",
    "for i in Countries: \n",
    "    Query = client.query_generation(i, start=start,end=end, psr_type=None) # Generation Query \n",
    "    Query['Country'] = i\n",
    "    Generation.append(Query)\n",
    "\n",
    "Generation = pd.concat(Generation)\n",
    "\n",
    "Generation.rename(columns=''.join, inplace=True)\n",
    "Generation['Date'] = Generation.index.astype(str)\n",
    "Generation['Date'] = pd.to_datetime(Generation['Date'])\n",
    "#Unpitoving for Tableau format\n",
    "Generation_lastmonth_unpivoted = Generation.melt(id_vars = ['Date','Country'])\n",
    "    "
   ]
  },
  {
   "cell_type": "code",
   "execution_count": 34,
   "metadata": {},
   "outputs": [],
   "source": [
    "# QUERY 2: Prices\n",
    "\n",
    "Countries = ['ES','PT','FR','DE_LU','BE','CZ','IT_NORD','AT','NL','SK','FI','CH','PL','GR','EE','HU','RO','LT','LV','NO_1','RS','SI']\n",
    "\n",
    "Prices = []\n",
    "\n",
    "for i in Countries: \n",
    "    Query = client.query_day_ahead_prices(i, start=start,end=end).to_frame() # Prices Query \n",
    "    Query['Country'] = i\n",
    "    Prices.append(Query)\n",
    "\n",
    "Prices = pd.concat(Prices)\n",
    "\n",
    "#Adding Luxembourg\n",
    "\n",
    "Price_Luxembourg = client.query_day_ahead_prices('DE_LU', start=start,end=end).to_frame()\n",
    "Price_Luxembourg['Country']=\"LU\"\n",
    "Prices = pd.concat([Prices,Price_Luxembourg])\n",
    "\n",
    "#Replacing wrong country codes \n",
    "\n",
    "Prices['Country'].replace(to_replace= 'DE_LU',value='DE', inplace= True)\n",
    "Prices['Country'].replace(to_replace= 'IT_NORD',value='IT', inplace= True)\n",
    "Prices['Country'].replace(to_replace= 'NO_1',value='NO', inplace= True)\n",
    "Prices['Country'].replace(to_replace= 'GB',value='UK', inplace= True)\n",
    "\n",
    "Prices['Date'] = Prices.index.astype(str).str[:-6]\n",
    "Prices['Date'] = pd.to_datetime(Prices['Date'])\n",
    "#Unpitoving for Tableau format\n",
    "Prices_unpivoted = Prices.melt(id_vars = ['Country','Date'])\n",
    "\n"
   ]
  },
  {
   "cell_type": "code",
   "execution_count": 35,
   "metadata": {},
   "outputs": [],
   "source": [
    "# google sheets authentication\n",
    "creds = '/Users/brunoluis/Jupyter/Projects /ENTSO API/root-gist-358222-ff123e36322d.json'\n",
    "api = pygsheets.authorize(service_file=creds)\n",
    "wb = api.open('ENTSO-E')\n",
    "\n",
    "# open the sheet by name\n",
    "sheet = wb.worksheet_by_title('Price')\n",
    "sheet.set_dataframe(Prices_unpivoted, (1,1))\n"
   ]
  },
  {
   "cell_type": "code",
   "execution_count": null,
   "metadata": {},
   "outputs": [],
   "source": [
    "#sns.set(rc={'figure.figsize':(12,9)})\n",
    "#sns.lineplot(data = Prices_unpivoted,x = 'Date', y = 'value', hue = 'Country')"
   ]
  }
 ],
 "metadata": {
  "kernelspec": {
   "display_name": "Python 3.9.7 ('base')",
   "language": "python",
   "name": "python3"
  },
  "language_info": {
   "codemirror_mode": {
    "name": "ipython",
    "version": 3
   },
   "file_extension": ".py",
   "mimetype": "text/x-python",
   "name": "python",
   "nbconvert_exporter": "python",
   "pygments_lexer": "ipython3",
   "version": "3.9.7"
  },
  "orig_nbformat": 4,
  "vscode": {
   "interpreter": {
    "hash": "72c2ae797f619f9c13f41fbd63926efb49f048e9aabb1c00b68feda67b34aa1e"
   }
  }
 },
 "nbformat": 4,
 "nbformat_minor": 2
}
